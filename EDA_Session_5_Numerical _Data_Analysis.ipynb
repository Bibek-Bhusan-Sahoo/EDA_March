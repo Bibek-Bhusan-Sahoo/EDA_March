{
 "cells": [
  {
   "cell_type": "markdown",
   "id": "41b1b4aa",
   "metadata": {},
   "source": [
    "**Import Packages**"
   ]
  },
  {
   "cell_type": "code",
   "execution_count": 1,
   "id": "45023e39",
   "metadata": {},
   "outputs": [],
   "source": [
    "import pandas as pd\n",
    "import numpy as np\n",
    "import matplotlib.pyplot as plt\n",
    "import seaborn as sns"
   ]
  },
  {
   "cell_type": "code",
   "execution_count": 2,
   "id": "d291ee11",
   "metadata": {},
   "outputs": [
    {
     "data": {
      "text/html": [
       "<div>\n",
       "<style scoped>\n",
       "    .dataframe tbody tr th:only-of-type {\n",
       "        vertical-align: middle;\n",
       "    }\n",
       "\n",
       "    .dataframe tbody tr th {\n",
       "        vertical-align: top;\n",
       "    }\n",
       "\n",
       "    .dataframe thead th {\n",
       "        text-align: right;\n",
       "    }\n",
       "</style>\n",
       "<table border=\"1\" class=\"dataframe\">\n",
       "  <thead>\n",
       "    <tr style=\"text-align: right;\">\n",
       "      <th></th>\n",
       "      <th>case_id</th>\n",
       "      <th>continent</th>\n",
       "      <th>education_of_employee</th>\n",
       "      <th>has_job_experience</th>\n",
       "      <th>requires_job_training</th>\n",
       "      <th>no_of_employees</th>\n",
       "      <th>yr_of_estab</th>\n",
       "      <th>region_of_employment</th>\n",
       "      <th>prevailing_wage</th>\n",
       "      <th>unit_of_wage</th>\n",
       "      <th>full_time_position</th>\n",
       "      <th>case_status</th>\n",
       "    </tr>\n",
       "  </thead>\n",
       "  <tbody>\n",
       "    <tr>\n",
       "      <th>0</th>\n",
       "      <td>EZYV01</td>\n",
       "      <td>Asia</td>\n",
       "      <td>High School</td>\n",
       "      <td>N</td>\n",
       "      <td>N</td>\n",
       "      <td>14513</td>\n",
       "      <td>2007</td>\n",
       "      <td>West</td>\n",
       "      <td>592.2029</td>\n",
       "      <td>Hour</td>\n",
       "      <td>Y</td>\n",
       "      <td>Denied</td>\n",
       "    </tr>\n",
       "    <tr>\n",
       "      <th>1</th>\n",
       "      <td>EZYV02</td>\n",
       "      <td>Asia</td>\n",
       "      <td>Master's</td>\n",
       "      <td>Y</td>\n",
       "      <td>N</td>\n",
       "      <td>2412</td>\n",
       "      <td>2002</td>\n",
       "      <td>Northeast</td>\n",
       "      <td>83425.6500</td>\n",
       "      <td>Year</td>\n",
       "      <td>Y</td>\n",
       "      <td>Certified</td>\n",
       "    </tr>\n",
       "  </tbody>\n",
       "</table>\n",
       "</div>"
      ],
      "text/plain": [
       "  case_id continent education_of_employee has_job_experience  \\\n",
       "0  EZYV01      Asia           High School                  N   \n",
       "1  EZYV02      Asia              Master's                  Y   \n",
       "\n",
       "  requires_job_training  no_of_employees  yr_of_estab region_of_employment  \\\n",
       "0                     N            14513         2007                 West   \n",
       "1                     N             2412         2002            Northeast   \n",
       "\n",
       "   prevailing_wage unit_of_wage full_time_position case_status  \n",
       "0         592.2029         Hour                  Y      Denied  \n",
       "1       83425.6500         Year                  Y   Certified  "
      ]
     },
     "execution_count": 2,
     "metadata": {},
     "output_type": "execute_result"
    }
   ],
   "source": [
    "visa_df = pd.read_csv(r'C:\\Users\\LEGION\\OneDrive\\Documents\\Naresh IT\\Datafiles\\Visadataset.csv')\n",
    "visa_df.head(2)"
   ]
  },
  {
   "cell_type": "code",
   "execution_count": 3,
   "id": "8680be71",
   "metadata": {},
   "outputs": [
    {
     "data": {
      "text/plain": [
       "Index(['no_of_employees', 'yr_of_estab', 'prevailing_wage'], dtype='object')"
      ]
     },
     "execution_count": 3,
     "metadata": {},
     "output_type": "execute_result"
    }
   ],
   "source": [
    "visa_df.select_dtypes(exclude='object').columns"
   ]
  },
  {
   "cell_type": "markdown",
   "id": "7fbb8cf7",
   "metadata": {},
   "source": [
    "**prevailing_wage**\n",
    "\n",
    "**Operations**\n",
    "\n",
    "- len\n",
    "- max\n",
    "- min\n",
    "- mean\n",
    "- median\n",
    "- std\n",
    "- 75%\n",
    "- 50%\n",
    "- 25%"
   ]
  },
  {
   "cell_type": "markdown",
   "id": "217e3b18",
   "metadata": {},
   "source": [
    "**count or len**"
   ]
  },
  {
   "cell_type": "code",
   "execution_count": 4,
   "id": "9a7c6259",
   "metadata": {},
   "outputs": [
    {
     "data": {
      "text/plain": [
       "25480"
      ]
     },
     "execution_count": 4,
     "metadata": {},
     "output_type": "execute_result"
    }
   ],
   "source": [
    "len(visa_df['prevailing_wage'])"
   ]
  },
  {
   "cell_type": "markdown",
   "id": "e6f72ac6",
   "metadata": {},
   "source": [
    "**max**"
   ]
  },
  {
   "cell_type": "code",
   "execution_count": 5,
   "id": "be1be183",
   "metadata": {},
   "outputs": [
    {
     "data": {
      "text/plain": [
       "319210.27"
      ]
     },
     "execution_count": 5,
     "metadata": {},
     "output_type": "execute_result"
    }
   ],
   "source": [
    "max(visa_df['prevailing_wage'])"
   ]
  },
  {
   "cell_type": "code",
   "execution_count": 6,
   "id": "415403a0",
   "metadata": {},
   "outputs": [
    {
     "data": {
      "text/plain": [
       "319210.27"
      ]
     },
     "execution_count": 6,
     "metadata": {},
     "output_type": "execute_result"
    }
   ],
   "source": [
    "visa_df['prevailing_wage'].max() # Using Pandas"
   ]
  },
  {
   "cell_type": "code",
   "execution_count": 7,
   "id": "3f972b8a",
   "metadata": {},
   "outputs": [
    {
     "data": {
      "text/plain": [
       "319210.27"
      ]
     },
     "execution_count": 7,
     "metadata": {},
     "output_type": "execute_result"
    }
   ],
   "source": [
    "np.max(visa_df['prevailing_wage']) #numpy"
   ]
  },
  {
   "cell_type": "markdown",
   "id": "13c7c838",
   "metadata": {},
   "source": [
    "**min**"
   ]
  },
  {
   "cell_type": "code",
   "execution_count": 8,
   "id": "8e1af31e",
   "metadata": {},
   "outputs": [
    {
     "data": {
      "text/plain": [
       "2.1367"
      ]
     },
     "execution_count": 8,
     "metadata": {},
     "output_type": "execute_result"
    }
   ],
   "source": [
    "min(visa_df['prevailing_wage'])"
   ]
  },
  {
   "cell_type": "code",
   "execution_count": 9,
   "id": "287d069b",
   "metadata": {},
   "outputs": [
    {
     "data": {
      "text/plain": [
       "2.1367"
      ]
     },
     "execution_count": 9,
     "metadata": {},
     "output_type": "execute_result"
    }
   ],
   "source": [
    "visa_df['prevailing_wage'].min()"
   ]
  },
  {
   "cell_type": "code",
   "execution_count": 10,
   "id": "4f93a56e",
   "metadata": {},
   "outputs": [
    {
     "data": {
      "text/plain": [
       "2.1367"
      ]
     },
     "execution_count": 10,
     "metadata": {},
     "output_type": "execute_result"
    }
   ],
   "source": [
    "np.min(visa_df['prevailing_wage'])"
   ]
  },
  {
   "cell_type": "markdown",
   "id": "7c85240e",
   "metadata": {},
   "source": [
    "**mean**"
   ]
  },
  {
   "cell_type": "code",
   "execution_count": 11,
   "id": "5b1f452f",
   "metadata": {},
   "outputs": [
    {
     "data": {
      "text/plain": [
       "74455.81459209183"
      ]
     },
     "execution_count": 11,
     "metadata": {},
     "output_type": "execute_result"
    }
   ],
   "source": [
    "visa_df['prevailing_wage'].mean()"
   ]
  },
  {
   "cell_type": "code",
   "execution_count": 12,
   "id": "c69add11",
   "metadata": {},
   "outputs": [
    {
     "data": {
      "text/plain": [
       "74455.81459209183"
      ]
     },
     "execution_count": 12,
     "metadata": {},
     "output_type": "execute_result"
    }
   ],
   "source": [
    "np.mean(visa_df['prevailing_wage'])"
   ]
  },
  {
   "cell_type": "markdown",
   "id": "e5300037",
   "metadata": {},
   "source": [
    "**median**"
   ]
  },
  {
   "cell_type": "code",
   "execution_count": 13,
   "id": "e2d0087f",
   "metadata": {},
   "outputs": [
    {
     "data": {
      "text/plain": [
       "70308.20999999999"
      ]
     },
     "execution_count": 13,
     "metadata": {},
     "output_type": "execute_result"
    }
   ],
   "source": [
    "visa_df['prevailing_wage'].median()"
   ]
  },
  {
   "cell_type": "code",
   "execution_count": 14,
   "id": "ed9baf02",
   "metadata": {},
   "outputs": [
    {
     "data": {
      "text/plain": [
       "70308.20999999999"
      ]
     },
     "execution_count": 14,
     "metadata": {},
     "output_type": "execute_result"
    }
   ],
   "source": [
    "np.median(visa_df['prevailing_wage'])"
   ]
  },
  {
   "cell_type": "markdown",
   "id": "644542f1",
   "metadata": {},
   "source": [
    "**standard deviation (std)**"
   ]
  },
  {
   "cell_type": "code",
   "execution_count": 15,
   "id": "0e7e11e2",
   "metadata": {},
   "outputs": [
    {
     "data": {
      "text/plain": [
       "52815.94232687357"
      ]
     },
     "execution_count": 15,
     "metadata": {},
     "output_type": "execute_result"
    }
   ],
   "source": [
    "visa_df['prevailing_wage'].std()"
   ]
  },
  {
   "cell_type": "code",
   "execution_count": 16,
   "id": "9ba82a90",
   "metadata": {},
   "outputs": [
    {
     "data": {
      "text/plain": [
       "52814.90589711402"
      ]
     },
     "execution_count": 16,
     "metadata": {},
     "output_type": "execute_result"
    }
   ],
   "source": [
    "np.std(visa_df['prevailing_wage'])"
   ]
  },
  {
   "cell_type": "markdown",
   "id": "0622d676",
   "metadata": {},
   "source": [
    "**Mode is not good option because it is a numerical value**"
   ]
  },
  {
   "cell_type": "code",
   "execution_count": 17,
   "id": "d269807b",
   "metadata": {},
   "outputs": [
    {
     "data": {
      "text/html": [
       "<div>\n",
       "<style scoped>\n",
       "    .dataframe tbody tr th:only-of-type {\n",
       "        vertical-align: middle;\n",
       "    }\n",
       "\n",
       "    .dataframe tbody tr th {\n",
       "        vertical-align: top;\n",
       "    }\n",
       "\n",
       "    .dataframe thead th {\n",
       "        text-align: right;\n",
       "    }\n",
       "</style>\n",
       "<table border=\"1\" class=\"dataframe\">\n",
       "  <thead>\n",
       "    <tr style=\"text-align: right;\">\n",
       "      <th></th>\n",
       "      <th>prevailing_wage</th>\n",
       "    </tr>\n",
       "  </thead>\n",
       "  <tbody>\n",
       "    <tr>\n",
       "      <th>Wage Count</th>\n",
       "      <td>25480.00</td>\n",
       "    </tr>\n",
       "    <tr>\n",
       "      <th>Wage Min</th>\n",
       "      <td>2.14</td>\n",
       "    </tr>\n",
       "    <tr>\n",
       "      <th>Wage Max</th>\n",
       "      <td>319210.27</td>\n",
       "    </tr>\n",
       "    <tr>\n",
       "      <th>Wage Mean</th>\n",
       "      <td>74455.81</td>\n",
       "    </tr>\n",
       "    <tr>\n",
       "      <th>Wage Median</th>\n",
       "      <td>70308.21</td>\n",
       "    </tr>\n",
       "    <tr>\n",
       "      <th>Wage STD</th>\n",
       "      <td>52815.94</td>\n",
       "    </tr>\n",
       "  </tbody>\n",
       "</table>\n",
       "</div>"
      ],
      "text/plain": [
       "             prevailing_wage\n",
       "Wage Count          25480.00\n",
       "Wage Min                2.14\n",
       "Wage Max           319210.27\n",
       "Wage Mean           74455.81\n",
       "Wage Median         70308.21\n",
       "Wage STD            52815.94"
      ]
     },
     "execution_count": 17,
     "metadata": {},
     "output_type": "execute_result"
    }
   ],
   "source": [
    "#All Together\n",
    "wage_count = round(len(visa_df['prevailing_wage']), 2)\n",
    "wage_min = round(visa_df['prevailing_wage'].min(), 2)\n",
    "wage_max = round(visa_df['prevailing_wage'].max(), 2) \n",
    "wage_mean = round(visa_df['prevailing_wage'].mean(), 2)\n",
    "wage_median = round(visa_df['prevailing_wage'].median(), 2)\n",
    "wage_std = round(visa_df['prevailing_wage'].std(), 2)\n",
    "\n",
    "wage_values = [wage_count, wage_min, wage_max, wage_mean, wage_median, wage_std]\n",
    "indexes = [\"Wage Count\", \"Wage Min\", \"Wage Max\", \"Wage Mean\", \"Wage Median\", \"Wage STD\"]\n",
    "dict1 = {\"prevailing_wage\": wage_values}\n",
    "wage_df = pd.DataFrame(dict1, index=indexes)\n",
    "wage_df"
   ]
  },
  {
   "cell_type": "code",
   "execution_count": 18,
   "id": "cb46c467",
   "metadata": {},
   "outputs": [
    {
     "ename": "KeyError",
     "evalue": "\"None of [Index(['Prevailing Wage'], dtype='object')] are in the [columns]\"",
     "output_type": "error",
     "traceback": [
      "\u001b[1;31m---------------------------------------------------------------------------\u001b[0m",
      "\u001b[1;31mKeyError\u001b[0m                                  Traceback (most recent call last)",
      "Cell \u001b[1;32mIn[18], line 1\u001b[0m\n\u001b[1;32m----> 1\u001b[0m \u001b[43mwage_df\u001b[49m\u001b[38;5;241;43m.\u001b[39;49m\u001b[43mloc\u001b[49m\u001b[43m[\u001b[49m\u001b[43m[\u001b[49m\u001b[38;5;124;43m'\u001b[39;49m\u001b[38;5;124;43mWage Count\u001b[39;49m\u001b[38;5;124;43m'\u001b[39;49m\u001b[43m]\u001b[49m\u001b[43m,\u001b[49m\u001b[43m \u001b[49m\u001b[43m[\u001b[49m\u001b[38;5;124;43m\"\u001b[39;49m\u001b[38;5;124;43mPrevailing Wage\u001b[39;49m\u001b[38;5;124;43m\"\u001b[39;49m\u001b[43m]\u001b[49m\u001b[43m]\u001b[49m\n",
      "File \u001b[1;32m~\\anaconda3\\lib\\site-packages\\pandas\\core\\indexing.py:1067\u001b[0m, in \u001b[0;36m_LocationIndexer.__getitem__\u001b[1;34m(self, key)\u001b[0m\n\u001b[0;32m   1065\u001b[0m     \u001b[38;5;28;01mif\u001b[39;00m \u001b[38;5;28mself\u001b[39m\u001b[38;5;241m.\u001b[39m_is_scalar_access(key):\n\u001b[0;32m   1066\u001b[0m         \u001b[38;5;28;01mreturn\u001b[39;00m \u001b[38;5;28mself\u001b[39m\u001b[38;5;241m.\u001b[39mobj\u001b[38;5;241m.\u001b[39m_get_value(\u001b[38;5;241m*\u001b[39mkey, takeable\u001b[38;5;241m=\u001b[39m\u001b[38;5;28mself\u001b[39m\u001b[38;5;241m.\u001b[39m_takeable)\n\u001b[1;32m-> 1067\u001b[0m     \u001b[38;5;28;01mreturn\u001b[39;00m \u001b[38;5;28;43mself\u001b[39;49m\u001b[38;5;241;43m.\u001b[39;49m\u001b[43m_getitem_tuple\u001b[49m\u001b[43m(\u001b[49m\u001b[43mkey\u001b[49m\u001b[43m)\u001b[49m\n\u001b[0;32m   1068\u001b[0m \u001b[38;5;28;01melse\u001b[39;00m:\n\u001b[0;32m   1069\u001b[0m     \u001b[38;5;66;03m# we by definition only have the 0th axis\u001b[39;00m\n\u001b[0;32m   1070\u001b[0m     axis \u001b[38;5;241m=\u001b[39m \u001b[38;5;28mself\u001b[39m\u001b[38;5;241m.\u001b[39maxis \u001b[38;5;129;01mor\u001b[39;00m \u001b[38;5;241m0\u001b[39m\n",
      "File \u001b[1;32m~\\anaconda3\\lib\\site-packages\\pandas\\core\\indexing.py:1254\u001b[0m, in \u001b[0;36m_LocIndexer._getitem_tuple\u001b[1;34m(self, tup)\u001b[0m\n\u001b[0;32m   1252\u001b[0m \u001b[38;5;66;03m# ugly hack for GH #836\u001b[39;00m\n\u001b[0;32m   1253\u001b[0m \u001b[38;5;28;01mif\u001b[39;00m \u001b[38;5;28mself\u001b[39m\u001b[38;5;241m.\u001b[39m_multi_take_opportunity(tup):\n\u001b[1;32m-> 1254\u001b[0m     \u001b[38;5;28;01mreturn\u001b[39;00m \u001b[38;5;28;43mself\u001b[39;49m\u001b[38;5;241;43m.\u001b[39;49m\u001b[43m_multi_take\u001b[49m\u001b[43m(\u001b[49m\u001b[43mtup\u001b[49m\u001b[43m)\u001b[49m\n\u001b[0;32m   1256\u001b[0m \u001b[38;5;28;01mreturn\u001b[39;00m \u001b[38;5;28mself\u001b[39m\u001b[38;5;241m.\u001b[39m_getitem_tuple_same_dim(tup)\n",
      "File \u001b[1;32m~\\anaconda3\\lib\\site-packages\\pandas\\core\\indexing.py:1205\u001b[0m, in \u001b[0;36m_LocIndexer._multi_take\u001b[1;34m(self, tup)\u001b[0m\n\u001b[0;32m   1189\u001b[0m \u001b[38;5;250m\u001b[39m\u001b[38;5;124;03m\"\"\"\u001b[39;00m\n\u001b[0;32m   1190\u001b[0m \u001b[38;5;124;03mCreate the indexers for the passed tuple of keys, and\u001b[39;00m\n\u001b[0;32m   1191\u001b[0m \u001b[38;5;124;03mexecutes the take operation. This allows the take operation to be\u001b[39;00m\n\u001b[1;32m   (...)\u001b[0m\n\u001b[0;32m   1202\u001b[0m \u001b[38;5;124;03mvalues: same type as the object being indexed\u001b[39;00m\n\u001b[0;32m   1203\u001b[0m \u001b[38;5;124;03m\"\"\"\u001b[39;00m\n\u001b[0;32m   1204\u001b[0m \u001b[38;5;66;03m# GH 836\u001b[39;00m\n\u001b[1;32m-> 1205\u001b[0m d \u001b[38;5;241m=\u001b[39m {\n\u001b[0;32m   1206\u001b[0m     axis: \u001b[38;5;28mself\u001b[39m\u001b[38;5;241m.\u001b[39m_get_listlike_indexer(key, axis)\n\u001b[0;32m   1207\u001b[0m     \u001b[38;5;28;01mfor\u001b[39;00m (key, axis) \u001b[38;5;129;01min\u001b[39;00m \u001b[38;5;28mzip\u001b[39m(tup, \u001b[38;5;28mself\u001b[39m\u001b[38;5;241m.\u001b[39mobj\u001b[38;5;241m.\u001b[39m_AXIS_ORDERS)\n\u001b[0;32m   1208\u001b[0m }\n\u001b[0;32m   1209\u001b[0m \u001b[38;5;28;01mreturn\u001b[39;00m \u001b[38;5;28mself\u001b[39m\u001b[38;5;241m.\u001b[39mobj\u001b[38;5;241m.\u001b[39m_reindex_with_indexers(d, copy\u001b[38;5;241m=\u001b[39m\u001b[38;5;28;01mTrue\u001b[39;00m, allow_dups\u001b[38;5;241m=\u001b[39m\u001b[38;5;28;01mTrue\u001b[39;00m)\n",
      "File \u001b[1;32m~\\anaconda3\\lib\\site-packages\\pandas\\core\\indexing.py:1206\u001b[0m, in \u001b[0;36m<dictcomp>\u001b[1;34m(.0)\u001b[0m\n\u001b[0;32m   1189\u001b[0m \u001b[38;5;250m\u001b[39m\u001b[38;5;124;03m\"\"\"\u001b[39;00m\n\u001b[0;32m   1190\u001b[0m \u001b[38;5;124;03mCreate the indexers for the passed tuple of keys, and\u001b[39;00m\n\u001b[0;32m   1191\u001b[0m \u001b[38;5;124;03mexecutes the take operation. This allows the take operation to be\u001b[39;00m\n\u001b[1;32m   (...)\u001b[0m\n\u001b[0;32m   1202\u001b[0m \u001b[38;5;124;03mvalues: same type as the object being indexed\u001b[39;00m\n\u001b[0;32m   1203\u001b[0m \u001b[38;5;124;03m\"\"\"\u001b[39;00m\n\u001b[0;32m   1204\u001b[0m \u001b[38;5;66;03m# GH 836\u001b[39;00m\n\u001b[0;32m   1205\u001b[0m d \u001b[38;5;241m=\u001b[39m {\n\u001b[1;32m-> 1206\u001b[0m     axis: \u001b[38;5;28;43mself\u001b[39;49m\u001b[38;5;241;43m.\u001b[39;49m\u001b[43m_get_listlike_indexer\u001b[49m\u001b[43m(\u001b[49m\u001b[43mkey\u001b[49m\u001b[43m,\u001b[49m\u001b[43m \u001b[49m\u001b[43maxis\u001b[49m\u001b[43m)\u001b[49m\n\u001b[0;32m   1207\u001b[0m     \u001b[38;5;28;01mfor\u001b[39;00m (key, axis) \u001b[38;5;129;01min\u001b[39;00m \u001b[38;5;28mzip\u001b[39m(tup, \u001b[38;5;28mself\u001b[39m\u001b[38;5;241m.\u001b[39mobj\u001b[38;5;241m.\u001b[39m_AXIS_ORDERS)\n\u001b[0;32m   1208\u001b[0m }\n\u001b[0;32m   1209\u001b[0m \u001b[38;5;28;01mreturn\u001b[39;00m \u001b[38;5;28mself\u001b[39m\u001b[38;5;241m.\u001b[39mobj\u001b[38;5;241m.\u001b[39m_reindex_with_indexers(d, copy\u001b[38;5;241m=\u001b[39m\u001b[38;5;28;01mTrue\u001b[39;00m, allow_dups\u001b[38;5;241m=\u001b[39m\u001b[38;5;28;01mTrue\u001b[39;00m)\n",
      "File \u001b[1;32m~\\anaconda3\\lib\\site-packages\\pandas\\core\\indexing.py:1432\u001b[0m, in \u001b[0;36m_LocIndexer._get_listlike_indexer\u001b[1;34m(self, key, axis)\u001b[0m\n\u001b[0;32m   1429\u001b[0m ax \u001b[38;5;241m=\u001b[39m \u001b[38;5;28mself\u001b[39m\u001b[38;5;241m.\u001b[39mobj\u001b[38;5;241m.\u001b[39m_get_axis(axis)\n\u001b[0;32m   1430\u001b[0m axis_name \u001b[38;5;241m=\u001b[39m \u001b[38;5;28mself\u001b[39m\u001b[38;5;241m.\u001b[39mobj\u001b[38;5;241m.\u001b[39m_get_axis_name(axis)\n\u001b[1;32m-> 1432\u001b[0m keyarr, indexer \u001b[38;5;241m=\u001b[39m \u001b[43max\u001b[49m\u001b[38;5;241;43m.\u001b[39;49m\u001b[43m_get_indexer_strict\u001b[49m\u001b[43m(\u001b[49m\u001b[43mkey\u001b[49m\u001b[43m,\u001b[49m\u001b[43m \u001b[49m\u001b[43maxis_name\u001b[49m\u001b[43m)\u001b[49m\n\u001b[0;32m   1434\u001b[0m \u001b[38;5;28;01mreturn\u001b[39;00m keyarr, indexer\n",
      "File \u001b[1;32m~\\anaconda3\\lib\\site-packages\\pandas\\core\\indexes\\base.py:6070\u001b[0m, in \u001b[0;36mIndex._get_indexer_strict\u001b[1;34m(self, key, axis_name)\u001b[0m\n\u001b[0;32m   6067\u001b[0m \u001b[38;5;28;01melse\u001b[39;00m:\n\u001b[0;32m   6068\u001b[0m     keyarr, indexer, new_indexer \u001b[38;5;241m=\u001b[39m \u001b[38;5;28mself\u001b[39m\u001b[38;5;241m.\u001b[39m_reindex_non_unique(keyarr)\n\u001b[1;32m-> 6070\u001b[0m \u001b[38;5;28;43mself\u001b[39;49m\u001b[38;5;241;43m.\u001b[39;49m\u001b[43m_raise_if_missing\u001b[49m\u001b[43m(\u001b[49m\u001b[43mkeyarr\u001b[49m\u001b[43m,\u001b[49m\u001b[43m \u001b[49m\u001b[43mindexer\u001b[49m\u001b[43m,\u001b[49m\u001b[43m \u001b[49m\u001b[43maxis_name\u001b[49m\u001b[43m)\u001b[49m\n\u001b[0;32m   6072\u001b[0m keyarr \u001b[38;5;241m=\u001b[39m \u001b[38;5;28mself\u001b[39m\u001b[38;5;241m.\u001b[39mtake(indexer)\n\u001b[0;32m   6073\u001b[0m \u001b[38;5;28;01mif\u001b[39;00m \u001b[38;5;28misinstance\u001b[39m(key, Index):\n\u001b[0;32m   6074\u001b[0m     \u001b[38;5;66;03m# GH 42790 - Preserve name from an Index\u001b[39;00m\n",
      "File \u001b[1;32m~\\anaconda3\\lib\\site-packages\\pandas\\core\\indexes\\base.py:6130\u001b[0m, in \u001b[0;36mIndex._raise_if_missing\u001b[1;34m(self, key, indexer, axis_name)\u001b[0m\n\u001b[0;32m   6128\u001b[0m     \u001b[38;5;28;01mif\u001b[39;00m use_interval_msg:\n\u001b[0;32m   6129\u001b[0m         key \u001b[38;5;241m=\u001b[39m \u001b[38;5;28mlist\u001b[39m(key)\n\u001b[1;32m-> 6130\u001b[0m     \u001b[38;5;28;01mraise\u001b[39;00m \u001b[38;5;167;01mKeyError\u001b[39;00m(\u001b[38;5;124mf\u001b[39m\u001b[38;5;124m\"\u001b[39m\u001b[38;5;124mNone of [\u001b[39m\u001b[38;5;132;01m{\u001b[39;00mkey\u001b[38;5;132;01m}\u001b[39;00m\u001b[38;5;124m] are in the [\u001b[39m\u001b[38;5;132;01m{\u001b[39;00maxis_name\u001b[38;5;132;01m}\u001b[39;00m\u001b[38;5;124m]\u001b[39m\u001b[38;5;124m\"\u001b[39m)\n\u001b[0;32m   6132\u001b[0m not_found \u001b[38;5;241m=\u001b[39m \u001b[38;5;28mlist\u001b[39m(ensure_index(key)[missing_mask\u001b[38;5;241m.\u001b[39mnonzero()[\u001b[38;5;241m0\u001b[39m]]\u001b[38;5;241m.\u001b[39munique())\n\u001b[0;32m   6133\u001b[0m \u001b[38;5;28;01mraise\u001b[39;00m \u001b[38;5;167;01mKeyError\u001b[39;00m(\u001b[38;5;124mf\u001b[39m\u001b[38;5;124m\"\u001b[39m\u001b[38;5;132;01m{\u001b[39;00mnot_found\u001b[38;5;132;01m}\u001b[39;00m\u001b[38;5;124m not in index\u001b[39m\u001b[38;5;124m\"\u001b[39m)\n",
      "\u001b[1;31mKeyError\u001b[0m: \"None of [Index(['Prevailing Wage'], dtype='object')] are in the [columns]\""
     ]
    }
   ],
   "source": [
    "wage_df.loc[['Wage Count'], [\"Prevailing Wage\"]]"
   ]
  },
  {
   "cell_type": "markdown",
   "id": "90f42de6",
   "metadata": {},
   "source": [
    "**Percentile and Quartile**\n",
    "\n",
    "- **Percentile**\n",
    "       - np.percentile()\n",
    "       - It will take two arguments\n",
    "               - Data : a\n",
    "               - percentile : q the values varies from 0 to 100\n",
    "               - if you want 50P data q = 50\n",
    "               \n",
    "- **Quantile**\n",
    "    - np.quantile()\n",
    "    - It will take two arguments\n",
    "                - Data : a\n",
    "                - percentile : q the values varies from 0 to 1\n",
    "                - if you want 50P data q = 0.5"
   ]
  },
  {
   "cell_type": "markdown",
   "id": "d859e2f3",
   "metadata": {},
   "source": [
    "**25P-50P-75P**\n",
    "\n",
    "**Percentile**"
   ]
  },
  {
   "cell_type": "code",
   "execution_count": 34,
   "id": "b953974b",
   "metadata": {},
   "outputs": [
    {
     "name": "stdout",
     "output_type": "stream",
     "text": [
      "the 25% data is 34015.48\n",
      "the 50% data is 70308.21\n",
      "the 75% data is 107735.51\n"
     ]
    }
   ],
   "source": [
    "wage_25p = round(np.percentile(visa_df['prevailing_wage'], 25), 2) \n",
    "wage_50p = round(np.percentile(visa_df['prevailing_wage'], 50), 2)\n",
    "wage_75p = round(np.percentile(visa_df['prevailing_wage'], 75), 2)\n",
    "\n",
    "print(f\"the 25% data is {wage_25p}\")\n",
    "print(f\"the 50% data is {wage_50p}\")\n",
    "print(f\"the 75% data is {wage_75p}\")"
   ]
  },
  {
   "cell_type": "markdown",
   "id": "104e8be5",
   "metadata": {},
   "source": [
    "**25P-50P-75P**\n",
    "\n",
    "**Quantile**"
   ]
  },
  {
   "cell_type": "code",
   "execution_count": 35,
   "id": "9de29107",
   "metadata": {},
   "outputs": [
    {
     "name": "stdout",
     "output_type": "stream",
     "text": [
      "the 25% data is 34015.48\n",
      "the 50% data is 70308.21\n",
      "the 75% data is 107735.51\n"
     ]
    }
   ],
   "source": [
    "wage_25p = round(np.quantile(visa_df['prevailing_wage'], 0.25), 2) \n",
    "wage_50p = round(np.quantile(visa_df['prevailing_wage'], 0.50), 2)\n",
    "wage_75p = round(np.quantile(visa_df['prevailing_wage'], 0.75), 2)\n",
    "\n",
    "print(f\"the 25% data is {wage_25p}\")\n",
    "print(f\"the 50% data is {wage_50p}\")\n",
    "print(f\"the 75% data is {wage_75p}\")"
   ]
  },
  {
   "cell_type": "markdown",
   "id": "eadf030b",
   "metadata": {},
   "source": [
    "**Understand the percentile meaning**\n",
    "\n",
    "- definition of 25 percentile\n",
    "    - there are 25% of employees has salary less than 34015.48\n",
    "    - total employees = 25480\n",
    "    - 25 % of employees = 25*24580/100 = 6370\n",
    "    - 6370 employees salary less than 34015.48"
   ]
  },
  {
   "cell_type": "markdown",
   "id": "be003d0e",
   "metadata": {},
   "source": [
    "**25p** "
   ]
  },
  {
   "cell_type": "code",
   "execution_count": 36,
   "id": "8e976c44",
   "metadata": {},
   "outputs": [
    {
     "data": {
      "text/plain": [
       "6370"
      ]
     },
     "execution_count": 36,
     "metadata": {},
     "output_type": "execute_result"
    }
   ],
   "source": [
    "con = visa_df['prevailing_wage'] < wage_25p\n",
    "len(visa_df[con])"
   ]
  },
  {
   "cell_type": "markdown",
   "id": "aeed7762",
   "metadata": {},
   "source": [
    "**50P**"
   ]
  },
  {
   "cell_type": "code",
   "execution_count": 37,
   "id": "b9fbd868",
   "metadata": {},
   "outputs": [
    {
     "data": {
      "text/plain": [
       "12740"
      ]
     },
     "execution_count": 37,
     "metadata": {},
     "output_type": "execute_result"
    }
   ],
   "source": [
    "con = visa_df['prevailing_wage'] < wage_50p\n",
    "len(visa_df[con])"
   ]
  },
  {
   "cell_type": "markdown",
   "id": "404524c4",
   "metadata": {},
   "source": [
    "**75p**"
   ]
  },
  {
   "cell_type": "code",
   "execution_count": 38,
   "id": "d1d8b1e3",
   "metadata": {},
   "outputs": [
    {
     "data": {
      "text/plain": [
       "19110"
      ]
     },
     "execution_count": 38,
     "metadata": {},
     "output_type": "execute_result"
    }
   ],
   "source": [
    "con = visa_df['prevailing_wage'] < wage_75p\n",
    "len(visa_df[con])"
   ]
  },
  {
   "cell_type": "markdown",
   "id": "c1b519de",
   "metadata": {},
   "source": [
    "**Emperical Rule (68-95-99.7)**\n",
    "<img src=\"https://builtin.com/sites/www.builtin.com/files/styles/ckeditor_optimize/public/inline-images/1_empirical-rule.jpg\" jsaction=\"VQAsE\" class=\"sFlh5c pT0Scc iPVvYb\" style=\"max-width: 810px; width: 557px; height: 279px; margin: 0px;\" alt=\"Empirical Rule (68-95-99.7) Explained | Built In\" jsname=\"kn3ccd\" aria-hidden=\"false\">"
   ]
  },
  {
   "cell_type": "markdown",
   "id": "85408d27",
   "metadata": {},
   "source": [
    "- First calculate mean value\n",
    "- Second calculate std value\n",
    "- con1 : mean - 1 * std\n",
    "- con2 : mean + 1 * std\n",
    "- If you apply above conditionon wage data, the output count should be equal to 68 percentiledata\n",
    "- 68% of total employees: 17326"
   ]
  },
  {
   "cell_type": "code",
   "execution_count": 39,
   "id": "0cf8b3de",
   "metadata": {},
   "outputs": [
    {
     "name": "stdout",
     "output_type": "stream",
     "text": [
      "68% of data lies between 21639.869999999995 to 127271.75\n",
      "Total number of employees earning between 21639.869999999995 to 127271.75 = 17171\n",
      "68% of 25480 = 17326.4\n",
      "17171 is nearly equal to 17326.4 as dataset doesn't follow normal distribution\n"
     ]
    }
   ],
   "source": [
    "v1 = wage_mean - 1 * wage_std\n",
    "v2 = wage_mean + 1 * wage_std\n",
    "print(f\"68% of data lies between {v1} to {v2}\")\n",
    "con1 = visa_df['prevailing_wage'] > v1\n",
    "con2 = visa_df['prevailing_wage'] < v2\n",
    "\n",
    "count1 = len(visa_df[con1 & con2])\n",
    "print(f\"Total number of employees earning between {v1} to {v2} = {count1}\")\n",
    "print(f\"68% of 25480 = {68*25480/100}\")\n",
    "print(f\"{count1} is nearly equal to {68*25480/100} as dataset doesn't follow normal distribution\")"
   ]
  },
  {
   "cell_type": "code",
   "execution_count": 40,
   "id": "65a65344",
   "metadata": {},
   "outputs": [
    {
     "name": "stdout",
     "output_type": "stream",
     "text": [
      "95% of data lies between -31176.070000000007 to 180087.69\n",
      "Total number of employees earning between -31176.070000000007 to 180087.69 = 24582\n",
      "95% of 25480 = 24206.0\n",
      "24582 is nearly equal to 24206.0 as dataset doesn't follow normal distribution\n"
     ]
    }
   ],
   "source": [
    "v1 = wage_mean - 2 * wage_std\n",
    "v2 = wage_mean + 2 * wage_std\n",
    "print(f\"95% of data lies between {v1} to {v2}\")\n",
    "con1 = visa_df['prevailing_wage'] > v1\n",
    "con2 = visa_df['prevailing_wage'] < v2\n",
    "\n",
    "count1 = len(visa_df[con1 & con2])\n",
    "print(f\"Total number of employees earning between {v1} to {v2} = {count1}\")\n",
    "print(f\"95% of 25480 = {95*25480/100}\")\n",
    "print(f\"{count1} is nearly equal to {95*25480/100} as dataset doesn't follow normal distribution\")"
   ]
  },
  {
   "cell_type": "code",
   "execution_count": 41,
   "id": "fd22fbf5",
   "metadata": {},
   "outputs": [
    {
     "name": "stdout",
     "output_type": "stream",
     "text": [
      "99.7% of data lies between -83992.01000000001 to 232903.63\n",
      "Total number of employees earning between -83992.01000000001 to 232903.63 = 25186\n",
      "99.7% of 25480 = 25403.56\n",
      "25186 is nearly equal to 25403.56 as dataset doesn't follow normal distribution\n"
     ]
    }
   ],
   "source": [
    "v1 = wage_mean - 3 * wage_std\n",
    "v2 = wage_mean + 3 * wage_std\n",
    "print(f\"99.7% of data lies between {v1} to {v2}\")\n",
    "con1 = visa_df['prevailing_wage'] > v1\n",
    "con2 = visa_df['prevailing_wage'] < v2\n",
    "\n",
    "count1 = len(visa_df[con1 & con2])\n",
    "print(f\"Total number of employees earning between {v1} to {v2} = {count1}\")\n",
    "print(f\"99.7% of 25480 = {99.7*25480/100}\")\n",
    "print(f\"{count1} is nearly equal to {99.7*25480/100} as dataset doesn't follow normal distribution\")"
   ]
  },
  {
   "cell_type": "code",
   "execution_count": 42,
   "id": "78e0a4bf",
   "metadata": {},
   "outputs": [
    {
     "data": {
      "text/html": [
       "<div>\n",
       "<style scoped>\n",
       "    .dataframe tbody tr th:only-of-type {\n",
       "        vertical-align: middle;\n",
       "    }\n",
       "\n",
       "    .dataframe tbody tr th {\n",
       "        vertical-align: top;\n",
       "    }\n",
       "\n",
       "    .dataframe thead th {\n",
       "        text-align: right;\n",
       "    }\n",
       "</style>\n",
       "<table border=\"1\" class=\"dataframe\">\n",
       "  <thead>\n",
       "    <tr style=\"text-align: right;\">\n",
       "      <th></th>\n",
       "      <th>prevailing_wage</th>\n",
       "    </tr>\n",
       "  </thead>\n",
       "  <tbody>\n",
       "    <tr>\n",
       "      <th>Wage Count</th>\n",
       "      <td>25480.00</td>\n",
       "    </tr>\n",
       "    <tr>\n",
       "      <th>Wage Min</th>\n",
       "      <td>2.14</td>\n",
       "    </tr>\n",
       "    <tr>\n",
       "      <th>Wage Max</th>\n",
       "      <td>319210.27</td>\n",
       "    </tr>\n",
       "    <tr>\n",
       "      <th>Wage Mean</th>\n",
       "      <td>74455.81</td>\n",
       "    </tr>\n",
       "    <tr>\n",
       "      <th>Wage Median</th>\n",
       "      <td>70308.21</td>\n",
       "    </tr>\n",
       "    <tr>\n",
       "      <th>Wage STD</th>\n",
       "      <td>52815.94</td>\n",
       "    </tr>\n",
       "    <tr>\n",
       "      <th>Wage 25%</th>\n",
       "      <td>34015.48</td>\n",
       "    </tr>\n",
       "    <tr>\n",
       "      <th>Wage 50%</th>\n",
       "      <td>70308.21</td>\n",
       "    </tr>\n",
       "    <tr>\n",
       "      <th>Wage 75%</th>\n",
       "      <td>107735.51</td>\n",
       "    </tr>\n",
       "  </tbody>\n",
       "</table>\n",
       "</div>"
      ],
      "text/plain": [
       "             prevailing_wage\n",
       "Wage Count          25480.00\n",
       "Wage Min                2.14\n",
       "Wage Max           319210.27\n",
       "Wage Mean           74455.81\n",
       "Wage Median         70308.21\n",
       "Wage STD            52815.94\n",
       "Wage 25%            34015.48\n",
       "Wage 50%            70308.21\n",
       "Wage 75%           107735.51"
      ]
     },
     "execution_count": 42,
     "metadata": {},
     "output_type": "execute_result"
    }
   ],
   "source": [
    "#All Together\n",
    "wage_count = round(len(visa_df['prevailing_wage']), 2)\n",
    "wage_min = round(visa_df['prevailing_wage'].min(), 2)\n",
    "wage_max = round(visa_df['prevailing_wage'].max(), 2) \n",
    "wage_mean = round(visa_df['prevailing_wage'].mean(), 2)\n",
    "wage_median = round(visa_df['prevailing_wage'].median(), 2)\n",
    "wage_std = round(visa_df['prevailing_wage'].std(), 2)\n",
    "wage_25p = round(np.quantile(visa_df['prevailing_wage'], 0.25), 2) \n",
    "wage_50p = round(np.quantile(visa_df['prevailing_wage'], 0.50), 2)\n",
    "wage_75p = round(np.quantile(visa_df['prevailing_wage'], 0.75), 2)\n",
    "\n",
    "wage_values = [wage_count, wage_min, wage_max, wage_mean, wage_median, wage_std, wage_25p, wage_50p, wage_75p]\n",
    "indexes = [\"Wage Count\", \"Wage Min\", \"Wage Max\", \"Wage Mean\", \"Wage Median\", \"Wage STD\", \"Wage 25%\", \"Wage 50%\",\n",
    "          \"Wage 75%\"]\n",
    "dict1 = {\"prevailing_wage\": wage_values}\n",
    "wage_df = pd.DataFrame(dict1, index=indexes)\n",
    "wage_df"
   ]
  },
  {
   "cell_type": "code",
   "execution_count": 28,
   "id": "87b3303f",
   "metadata": {},
   "outputs": [
    {
     "data": {
      "text/html": [
       "<div>\n",
       "<style scoped>\n",
       "    .dataframe tbody tr th:only-of-type {\n",
       "        vertical-align: middle;\n",
       "    }\n",
       "\n",
       "    .dataframe tbody tr th {\n",
       "        vertical-align: top;\n",
       "    }\n",
       "\n",
       "    .dataframe thead th {\n",
       "        text-align: right;\n",
       "    }\n",
       "</style>\n",
       "<table border=\"1\" class=\"dataframe\">\n",
       "  <thead>\n",
       "    <tr style=\"text-align: right;\">\n",
       "      <th></th>\n",
       "      <th>Count</th>\n",
       "      <th>Min</th>\n",
       "      <th>Max</th>\n",
       "      <th>Mean</th>\n",
       "      <th>Median</th>\n",
       "      <th>STD</th>\n",
       "      <th>25%</th>\n",
       "      <th>50%</th>\n",
       "      <th>75%</th>\n",
       "    </tr>\n",
       "  </thead>\n",
       "  <tbody>\n",
       "    <tr>\n",
       "      <th>no_of_employees</th>\n",
       "      <td>25480</td>\n",
       "      <td>-26.00</td>\n",
       "      <td>602069.00</td>\n",
       "      <td>5667.04</td>\n",
       "      <td>2109.00</td>\n",
       "      <td>22877.93</td>\n",
       "      <td>1022.00</td>\n",
       "      <td>2109.00</td>\n",
       "      <td>3504.00</td>\n",
       "    </tr>\n",
       "    <tr>\n",
       "      <th>yr_of_estab</th>\n",
       "      <td>25480</td>\n",
       "      <td>1800.00</td>\n",
       "      <td>2016.00</td>\n",
       "      <td>1979.41</td>\n",
       "      <td>1997.00</td>\n",
       "      <td>42.37</td>\n",
       "      <td>1976.00</td>\n",
       "      <td>1997.00</td>\n",
       "      <td>2005.00</td>\n",
       "    </tr>\n",
       "    <tr>\n",
       "      <th>prevailing_wage</th>\n",
       "      <td>25480</td>\n",
       "      <td>2.14</td>\n",
       "      <td>319210.27</td>\n",
       "      <td>74455.81</td>\n",
       "      <td>70308.21</td>\n",
       "      <td>52815.94</td>\n",
       "      <td>34015.48</td>\n",
       "      <td>70308.21</td>\n",
       "      <td>107735.51</td>\n",
       "    </tr>\n",
       "  </tbody>\n",
       "</table>\n",
       "</div>"
      ],
      "text/plain": [
       "                 Count      Min        Max      Mean    Median       STD  \\\n",
       "no_of_employees  25480   -26.00  602069.00   5667.04   2109.00  22877.93   \n",
       "yr_of_estab      25480  1800.00    2016.00   1979.41   1997.00     42.37   \n",
       "prevailing_wage  25480     2.14  319210.27  74455.81  70308.21  52815.94   \n",
       "\n",
       "                      25%       50%        75%  \n",
       "no_of_employees   1022.00   2109.00    3504.00  \n",
       "yr_of_estab       1976.00   1997.00    2005.00  \n",
       "prevailing_wage  34015.48  70308.21  107735.51  "
      ]
     },
     "execution_count": 28,
     "metadata": {},
     "output_type": "execute_result"
    }
   ],
   "source": [
    "cols = [\"Count\", \"Min\", \"Max\", \"Mean\", \"Median\", \"STD\", \"25%\", \"50%\",\n",
    "          \"75%\"]\n",
    "l1 = []\n",
    "index = []\n",
    "for i in visa_df.select_dtypes(exclude='object').columns:\n",
    "    count = round(len(visa_df[i]), 2)\n",
    "    minVal = round(visa_df[i].min(), 2)\n",
    "    maxVal = round(visa_df[i].max(), 2) \n",
    "    mean = round(visa_df[i].mean(), 2)\n",
    "    median = round(visa_df[i].median(), 2)\n",
    "    std = round(visa_df[i].std(), 2)\n",
    "    percentile_25 = round(np.quantile(visa_df[i], 0.25), 2) \n",
    "    percentile_50 = round(np.quantile(visa_df[i], 0.50), 2)\n",
    "    percentile_75 = round(np.quantile(visa_df[i], 0.75), 2)\n",
    "\n",
    "    l1.append([count, minVal, maxVal, mean, median, std, percentile_25, percentile_50, percentile_75])\n",
    "    index.append(i)\n",
    "    \n",
    "wage_df = pd.DataFrame(l1, index=index, columns=cols)\n",
    "wage_df"
   ]
  },
  {
   "cell_type": "code",
   "execution_count": 30,
   "id": "6100b26c",
   "metadata": {},
   "outputs": [
    {
     "data": {
      "text/html": [
       "<div>\n",
       "<style scoped>\n",
       "    .dataframe tbody tr th:only-of-type {\n",
       "        vertical-align: middle;\n",
       "    }\n",
       "\n",
       "    .dataframe tbody tr th {\n",
       "        vertical-align: top;\n",
       "    }\n",
       "\n",
       "    .dataframe thead th {\n",
       "        text-align: right;\n",
       "    }\n",
       "</style>\n",
       "<table border=\"1\" class=\"dataframe\">\n",
       "  <thead>\n",
       "    <tr style=\"text-align: right;\">\n",
       "      <th></th>\n",
       "      <th>no_of_employees</th>\n",
       "      <th>yr_of_estab</th>\n",
       "      <th>prevailing_wage</th>\n",
       "    </tr>\n",
       "  </thead>\n",
       "  <tbody>\n",
       "    <tr>\n",
       "      <th>Count</th>\n",
       "      <td>25480.00</td>\n",
       "      <td>25480.00</td>\n",
       "      <td>25480.00</td>\n",
       "    </tr>\n",
       "    <tr>\n",
       "      <th>Min</th>\n",
       "      <td>-26.00</td>\n",
       "      <td>1800.00</td>\n",
       "      <td>2.14</td>\n",
       "    </tr>\n",
       "    <tr>\n",
       "      <th>Max</th>\n",
       "      <td>602069.00</td>\n",
       "      <td>2016.00</td>\n",
       "      <td>319210.27</td>\n",
       "    </tr>\n",
       "    <tr>\n",
       "      <th>Mean</th>\n",
       "      <td>5667.04</td>\n",
       "      <td>1979.41</td>\n",
       "      <td>74455.81</td>\n",
       "    </tr>\n",
       "    <tr>\n",
       "      <th>Median</th>\n",
       "      <td>2109.00</td>\n",
       "      <td>1997.00</td>\n",
       "      <td>70308.21</td>\n",
       "    </tr>\n",
       "    <tr>\n",
       "      <th>STD</th>\n",
       "      <td>22877.93</td>\n",
       "      <td>42.37</td>\n",
       "      <td>52815.94</td>\n",
       "    </tr>\n",
       "    <tr>\n",
       "      <th>25%</th>\n",
       "      <td>1022.00</td>\n",
       "      <td>1976.00</td>\n",
       "      <td>34015.48</td>\n",
       "    </tr>\n",
       "    <tr>\n",
       "      <th>50%</th>\n",
       "      <td>2109.00</td>\n",
       "      <td>1997.00</td>\n",
       "      <td>70308.21</td>\n",
       "    </tr>\n",
       "    <tr>\n",
       "      <th>75%</th>\n",
       "      <td>3504.00</td>\n",
       "      <td>2005.00</td>\n",
       "      <td>107735.51</td>\n",
       "    </tr>\n",
       "  </tbody>\n",
       "</table>\n",
       "</div>"
      ],
      "text/plain": [
       "        no_of_employees  yr_of_estab  prevailing_wage\n",
       "Count          25480.00     25480.00         25480.00\n",
       "Min              -26.00      1800.00             2.14\n",
       "Max           602069.00      2016.00        319210.27\n",
       "Mean            5667.04      1979.41         74455.81\n",
       "Median          2109.00      1997.00         70308.21\n",
       "STD            22877.93        42.37         52815.94\n",
       "25%             1022.00      1976.00         34015.48\n",
       "50%             2109.00      1997.00         70308.21\n",
       "75%             3504.00      2005.00        107735.51"
      ]
     },
     "execution_count": 30,
     "metadata": {},
     "output_type": "execute_result"
    }
   ],
   "source": [
    "dict1 = {}\n",
    "index = [\"Count\", \"Min\", \"Max\", \"Mean\", \"Median\", \"STD\", \"25%\", \"50%\",\n",
    "          \"75%\"]\n",
    "for i in visa_df.select_dtypes(exclude='object').columns:\n",
    "    count = round(len(visa_df[i]), 2)\n",
    "    minVal = round(visa_df[i].min(), 2)\n",
    "    maxVal = round(visa_df[i].max(), 2) \n",
    "    mean = round(visa_df[i].mean(), 2)\n",
    "    median = round(visa_df[i].median(), 2)\n",
    "    std = round(visa_df[i].std(), 2)\n",
    "    percentile_25 = round(np.quantile(visa_df[i], 0.25), 2) \n",
    "    percentile_50 = round(np.quantile(visa_df[i], 0.50), 2)\n",
    "    percentile_75 = round(np.quantile(visa_df[i], 0.75), 2)\n",
    "    dict1[i] = [count, minVal, maxVal, mean, median, std, percentile_25, percentile_50, percentile_75]\n",
    "    \n",
    "wage_df = pd.DataFrame(dict1, index=index)\n",
    "wage_df"
   ]
  },
  {
   "cell_type": "markdown",
   "id": "95e58b7f",
   "metadata": {},
   "source": [
    "**Describe**\n",
    "\n",
    "- applicable on only numerical column"
   ]
  },
  {
   "cell_type": "code",
   "execution_count": 27,
   "id": "7e11e8c3",
   "metadata": {},
   "outputs": [
    {
     "data": {
      "text/html": [
       "<div>\n",
       "<style scoped>\n",
       "    .dataframe tbody tr th:only-of-type {\n",
       "        vertical-align: middle;\n",
       "    }\n",
       "\n",
       "    .dataframe tbody tr th {\n",
       "        vertical-align: top;\n",
       "    }\n",
       "\n",
       "    .dataframe thead th {\n",
       "        text-align: right;\n",
       "    }\n",
       "</style>\n",
       "<table border=\"1\" class=\"dataframe\">\n",
       "  <thead>\n",
       "    <tr style=\"text-align: right;\">\n",
       "      <th></th>\n",
       "      <th>no_of_employees</th>\n",
       "      <th>yr_of_estab</th>\n",
       "      <th>prevailing_wage</th>\n",
       "    </tr>\n",
       "  </thead>\n",
       "  <tbody>\n",
       "    <tr>\n",
       "      <th>count</th>\n",
       "      <td>25480.000000</td>\n",
       "      <td>25480.000000</td>\n",
       "      <td>25480.000000</td>\n",
       "    </tr>\n",
       "    <tr>\n",
       "      <th>mean</th>\n",
       "      <td>5667.043210</td>\n",
       "      <td>1979.409929</td>\n",
       "      <td>74455.814592</td>\n",
       "    </tr>\n",
       "    <tr>\n",
       "      <th>std</th>\n",
       "      <td>22877.928848</td>\n",
       "      <td>42.366929</td>\n",
       "      <td>52815.942327</td>\n",
       "    </tr>\n",
       "    <tr>\n",
       "      <th>min</th>\n",
       "      <td>-26.000000</td>\n",
       "      <td>1800.000000</td>\n",
       "      <td>2.136700</td>\n",
       "    </tr>\n",
       "    <tr>\n",
       "      <th>25%</th>\n",
       "      <td>1022.000000</td>\n",
       "      <td>1976.000000</td>\n",
       "      <td>34015.480000</td>\n",
       "    </tr>\n",
       "    <tr>\n",
       "      <th>50%</th>\n",
       "      <td>2109.000000</td>\n",
       "      <td>1997.000000</td>\n",
       "      <td>70308.210000</td>\n",
       "    </tr>\n",
       "    <tr>\n",
       "      <th>75%</th>\n",
       "      <td>3504.000000</td>\n",
       "      <td>2005.000000</td>\n",
       "      <td>107735.512500</td>\n",
       "    </tr>\n",
       "    <tr>\n",
       "      <th>max</th>\n",
       "      <td>602069.000000</td>\n",
       "      <td>2016.000000</td>\n",
       "      <td>319210.270000</td>\n",
       "    </tr>\n",
       "  </tbody>\n",
       "</table>\n",
       "</div>"
      ],
      "text/plain": [
       "       no_of_employees   yr_of_estab  prevailing_wage\n",
       "count     25480.000000  25480.000000     25480.000000\n",
       "mean       5667.043210   1979.409929     74455.814592\n",
       "std       22877.928848     42.366929     52815.942327\n",
       "min         -26.000000   1800.000000         2.136700\n",
       "25%        1022.000000   1976.000000     34015.480000\n",
       "50%        2109.000000   1997.000000     70308.210000\n",
       "75%        3504.000000   2005.000000    107735.512500\n",
       "max      602069.000000   2016.000000    319210.270000"
      ]
     },
     "execution_count": 27,
     "metadata": {},
     "output_type": "execute_result"
    }
   ],
   "source": [
    "visa_df.describe()"
   ]
  },
  {
   "cell_type": "markdown",
   "id": "c1c68562",
   "metadata": {},
   "source": [
    "**Histogram**\n",
    "\n",
    "- Histogram can be created uisng matplotlib\n",
    "- Histogram can also be created using seaborn\n",
    "- plt.hist()"
   ]
  },
  {
   "cell_type": "code",
   "execution_count": 31,
   "id": "7b10e470",
   "metadata": {},
   "outputs": [
    {
     "data": {
      "text/plain": [
       "(array([6038., 5504., 5681., 4551., 2334.,  624.,  373.,  240.,  114.,\n",
       "          21.]),\n",
       " array([2.13670000e+00, 3.19229500e+04, 6.38437634e+04, 9.57645767e+04,\n",
       "        1.27685390e+05, 1.59606203e+05, 1.91527017e+05, 2.23447830e+05,\n",
       "        2.55368643e+05, 2.87289457e+05, 3.19210270e+05]),\n",
       " <BarContainer object of 10 artists>)"
      ]
     },
     "execution_count": 31,
     "metadata": {},
     "output_type": "execute_result"
    },
    {
     "data": {
      "image/png": "[encoded data removed]",
      "text/plain": [
       "<Figure size 640x480 with 1 Axes>"
      ]
     },
     "metadata": {},
     "output_type": "display_data"
    }
   ],
   "source": [
    "import matplotlib.pyplot as plt\n",
    "plt.hist(visa_df['prevailing_wage'])"
   ]
  },
  {
   "cell_type": "markdown",
   "id": "9020da3e",
   "metadata": {},
   "source": [
    "**from interval range**\n",
    "\n",
    "- 2.13670000e+00, 3.19229500e+04\n",
    "    - 6038 employees get salary\n",
    "\n",
    "- 3.19229500e+04, 6.38437634e+04\n",
    "    - 5504 employees get salary\n",
    "    \n",
    "Histogram will give 3 outputs\n",
    "- frequuency\n",
    "    - each interval range how many observations are there\n",
    "- inverals\n",
    "    - interval range\n",
    "- number of intervals\n",
    "    - interval count"
   ]
  },
  {
   "cell_type": "markdown",
   "id": "0eea4430",
   "metadata": {},
   "source": [
    "**Checkpoint-1**"
   ]
  },
  {
   "cell_type": "code",
   "execution_count": 43,
   "id": "82831e07",
   "metadata": {},
   "outputs": [
    {
     "data": {
      "text/plain": [
       "(2.1367, 31922.95)"
      ]
     },
     "execution_count": 43,
     "metadata": {},
     "output_type": "execute_result"
    }
   ],
   "source": [
    "2.13670000e+00, 3.19229500e+04"
   ]
  },
  {
   "cell_type": "code",
   "execution_count": 47,
   "id": "89808635",
   "metadata": {},
   "outputs": [
    {
     "data": {
      "text/plain": [
       "6038"
      ]
     },
     "execution_count": 47,
     "metadata": {},
     "output_type": "execute_result"
    }
   ],
   "source": [
    "con1 = visa_df['prevailing_wage'] >= 2.13670000e+00\n",
    "con2 = visa_df['prevailing_wage'] < 3.19229500e+04\n",
    "\n",
    "count1 = len(visa_df[con1 & con2])\n",
    "count1"
   ]
  },
  {
   "cell_type": "code",
   "execution_count": 49,
   "id": "efbca7f8",
   "metadata": {},
   "outputs": [
    {
     "name": "stdout",
     "output_type": "stream",
     "text": [
      "<BarContainer object of 10 artists>\n"
     ]
    },
    {
     "data": {
      "image/png": "[encoded data removed]",
      "text/plain": [
       "<Figure size 640x480 with 1 Axes>"
      ]
     },
     "metadata": {},
     "output_type": "display_data"
    }
   ],
   "source": [
    "f,i,n = plt.hist(visa_df['prevailing_wage'])\n",
    "print(n)"
   ]
  },
  {
   "cell_type": "markdown",
   "id": "7e6a2104",
   "metadata": {},
   "source": [
    "**bins**\n",
    "\n",
    "- this argument is used to increase interval count in histgram plot"
   ]
  },
  {
   "cell_type": "code",
   "execution_count": 51,
   "id": "5ce00db5",
   "metadata": {},
   "outputs": [
    {
     "data": {
      "text/plain": [
       "(array([2.475e+03, 3.380e+02, 3.330e+02, 3.750e+02, 3.420e+02, 3.830e+02,\n",
       "        4.220e+02, 4.100e+02, 4.710e+02, 4.890e+02, 5.080e+02, 4.850e+02,\n",
       "        5.140e+02, 5.950e+02, 5.740e+02, 5.580e+02, 5.570e+02, 5.510e+02,\n",
       "        5.790e+02, 5.830e+02, 5.790e+02, 6.050e+02, 5.780e+02, 5.760e+02,\n",
       "        5.510e+02, 6.080e+02, 5.510e+02, 5.660e+02, 5.380e+02, 5.290e+02,\n",
       "        5.030e+02, 5.440e+02, 4.850e+02, 4.680e+02, 4.850e+02, 4.700e+02,\n",
       "        4.410e+02, 3.750e+02, 4.070e+02, 3.730e+02, 3.750e+02, 2.980e+02,\n",
       "        2.820e+02, 2.570e+02, 2.400e+02, 2.290e+02, 1.910e+02, 1.730e+02,\n",
       "        1.540e+02, 1.350e+02, 9.900e+01, 1.120e+02, 8.000e+01, 5.900e+01,\n",
       "        5.800e+01, 4.900e+01, 4.200e+01, 3.900e+01, 4.800e+01, 3.800e+01,\n",
       "        3.900e+01, 4.000e+01, 4.500e+01, 4.200e+01, 4.000e+01, 3.800e+01,\n",
       "        3.500e+01, 3.400e+01, 2.400e+01, 3.600e+01, 2.100e+01, 2.800e+01,\n",
       "        3.400e+01, 2.300e+01, 2.300e+01, 2.900e+01, 1.600e+01, 2.900e+01,\n",
       "        1.900e+01, 1.800e+01, 1.600e+01, 1.200e+01, 1.400e+01, 1.300e+01,\n",
       "        1.100e+01, 1.500e+01, 7.000e+00, 1.300e+01, 5.000e+00, 8.000e+00,\n",
       "        3.000e+00, 1.000e+00, 3.000e+00, 2.000e+00, 1.000e+00, 3.000e+00,\n",
       "        3.000e+00, 1.000e+00, 2.000e+00, 2.000e+00]),\n",
       " array([2.13670000e+00, 3.19421803e+03, 6.38629937e+03, 9.57838070e+03,\n",
       "        1.27704620e+04, 1.59625434e+04, 1.91546247e+04, 2.23467060e+04,\n",
       "        2.55387874e+04, 2.87308687e+04, 3.19229500e+04, 3.51150314e+04,\n",
       "        3.83071127e+04, 4.14991940e+04, 4.46912754e+04, 4.78833567e+04,\n",
       "        5.10754380e+04, 5.42675194e+04, 5.74596007e+04, 6.06516820e+04,\n",
       "        6.38437634e+04, 6.70358447e+04, 7.02279260e+04, 7.34200074e+04,\n",
       "        7.66120887e+04, 7.98041700e+04, 8.29962514e+04, 8.61883327e+04,\n",
       "        8.93804140e+04, 9.25724954e+04, 9.57645767e+04, 9.89566580e+04,\n",
       "        1.02148739e+05, 1.05340821e+05, 1.08532902e+05, 1.11724983e+05,\n",
       "        1.14917065e+05, 1.18109146e+05, 1.21301227e+05, 1.24493309e+05,\n",
       "        1.27685390e+05, 1.30877471e+05, 1.34069553e+05, 1.37261634e+05,\n",
       "        1.40453715e+05, 1.43645797e+05, 1.46837878e+05, 1.50029959e+05,\n",
       "        1.53222041e+05, 1.56414122e+05, 1.59606203e+05, 1.62798285e+05,\n",
       "        1.65990366e+05, 1.69182447e+05, 1.72374529e+05, 1.75566610e+05,\n",
       "        1.78758691e+05, 1.81950773e+05, 1.85142854e+05, 1.88334935e+05,\n",
       "        1.91527017e+05, 1.94719098e+05, 1.97911179e+05, 2.01103261e+05,\n",
       "        2.04295342e+05, 2.07487423e+05, 2.10679505e+05, 2.13871586e+05,\n",
       "        2.17063667e+05, 2.20255749e+05, 2.23447830e+05, 2.26639911e+05,\n",
       "        2.29831993e+05, 2.33024074e+05, 2.36216155e+05, 2.39408237e+05,\n",
       "        2.42600318e+05, 2.45792399e+05, 2.48984481e+05, 2.52176562e+05,\n",
       "        2.55368643e+05, 2.58560725e+05, 2.61752806e+05, 2.64944887e+05,\n",
       "        2.68136969e+05, 2.71329050e+05, 2.74521131e+05, 2.77713213e+05,\n",
       "        2.80905294e+05, 2.84097375e+05, 2.87289457e+05, 2.90481538e+05,\n",
       "        2.93673619e+05, 2.96865701e+05, 3.00057782e+05, 3.03249863e+05,\n",
       "        3.06441945e+05, 3.09634026e+05, 3.12826107e+05, 3.16018189e+05,\n",
       "        3.19210270e+05]),\n",
       " <BarContainer object of 100 artists>)"
      ]
     },
     "execution_count": 51,
     "metadata": {},
     "output_type": "execute_result"
    },
    {
     "data": {
      "image/png": "[encoded data removed]",
      "text/plain": [
       "<Figure size 640x480 with 1 Axes>"
      ]
     },
     "metadata": {},
     "output_type": "display_data"
    }
   ],
   "source": [
    "plt.hist(visa_df['prevailing_wage'], bins=100)"
   ]
  },
  {
   "cell_type": "code",
   "execution_count": 53,
   "id": "7e575b36",
   "metadata": {},
   "outputs": [
    {
     "data": {
      "image/png": "[encoded data removed]",
      "text/plain": [
       "<Figure size 640x480 with 1 Axes>"
      ]
     },
     "metadata": {},
     "output_type": "display_data"
    }
   ],
   "source": [
    "plt.hist(visa_df['prevailing_wage'], bins=40)\n",
    "plt.title(\"Histogram\")\n",
    "plt.xlabel(\"Class Interval\")\n",
    "plt.ylabel(\"Count of employees\")\n",
    "plt.show()"
   ]
  },
  {
   "cell_type": "code",
   "execution_count": 66,
   "id": "fd3f9a45",
   "metadata": {},
   "outputs": [
    {
     "data": {
      "image/png": "[encoded data removed]",
      "text/plain": [
       "<Figure size 1800x300 with 3 Axes>"
      ]
     },
     "metadata": {},
     "output_type": "display_data"
    }
   ],
   "source": [
    "plotCount = 1\n",
    "plt.figure(figsize=(18, 3))\n",
    "for i in visa_df.select_dtypes(exclude=\"object\").columns:\n",
    "    plt.subplot(1, 3, plotCount)\n",
    "    plt.hist(visa_df[i], bins=40)\n",
    "    plt.title(f\"Histogram - {i}\")\n",
    "    plt.xlabel(i)\n",
    "    plt.ylabel(\"count\")\n",
    "    plotCount +=1\n",
    "    "
   ]
  },
  {
   "cell_type": "markdown",
   "id": "6f6af7c8",
   "metadata": {},
   "source": [
    "**Histogram using Seaborn**\n",
    "\n",
    "- histplot\n",
    "- distplot"
   ]
  },
  {
   "cell_type": "code",
   "execution_count": 72,
   "id": "5d306816",
   "metadata": {},
   "outputs": [
    {
     "data": {
      "image/png": "[encoded data removed]",
      "text/plain": [
       "<Figure size 640x480 with 1 Axes>"
      ]
     },
     "metadata": {},
     "output_type": "display_data"
    }
   ],
   "source": [
    "import seaborn as sns\n",
    "sns.histplot(visa_df['prevailing_wage'])\n",
    "plt.show()"
   ]
  },
  {
   "cell_type": "code",
   "execution_count": 75,
   "id": "917a7b23",
   "metadata": {},
   "outputs": [
    {
     "name": "stderr",
     "output_type": "stream",
     "text": [
      "C:\\Users\\LEGION\\AppData\\Local\\Temp\\ipykernel_9436\\3930160617.py:1: UserWarning: \n",
      "\n",
      "`distplot` is a deprecated function and will be removed in seaborn v0.14.0.\n",
      "\n",
      "Please adapt your code to use either `displot` (a figure-level function with\n",
      "similar flexibility) or `histplot` (an axes-level function for histograms).\n",
      "\n",
      "For a guide to updating your code to use the new functions, please see\n",
      "https://gist.github.com/mwaskom/de44147ed2974457ad6372750bbe5751\n",
      "\n",
      "  sns.distplot(visa_df['prevailing_wage'])\n"
     ]
    },
    {
     "data": {
      "image/png": "[encoded data removed]",
      "text/plain": [
       "<Figure size 640x480 with 1 Axes>"
      ]
     },
     "metadata": {},
     "output_type": "display_data"
    }
   ],
   "source": [
    "sns.distplot(visa_df['prevailing_wage'])\n",
    "plt.show()"
   ]
  },
  {
   "cell_type": "markdown",
   "id": "22381bc4",
   "metadata": {},
   "source": [
    "**Ignore Warnings**"
   ]
  },
  {
   "cell_type": "code",
   "execution_count": 76,
   "id": "e917801f",
   "metadata": {},
   "outputs": [
    {
     "data": {
      "image/png": "[encoded data removed]",
      "text/plain": [
       "<Figure size 640x480 with 1 Axes>"
      ]
     },
     "metadata": {},
     "output_type": "display_data"
    }
   ],
   "source": [
    "import warnings\n",
    "\n",
    "warnings.filterwarnings('ignore')\n",
    "sns.distplot(visa_df['prevailing_wage'])\n",
    "plt.show()"
   ]
  },
  {
   "cell_type": "code",
   "execution_count": 68,
   "id": "d0fec0fc",
   "metadata": {},
   "outputs": [
    {
     "data": {
      "image/png": "[encoded data removed]",
      "text/plain": [
       "<Figure size 1800x300 with 3 Axes>"
      ]
     },
     "metadata": {},
     "output_type": "display_data"
    }
   ],
   "source": [
    "import seaborn as sns\n",
    "\n",
    "plotCount = 1\n",
    "plt.figure(figsize=(18, 3))\n",
    "for i in visa_df.select_dtypes(exclude=\"object\").columns:\n",
    "    plt.subplot(1, 3, plotCount)\n",
    "    sns.histplot(visa_df[i])\n",
    "    plt.title(f\"Histogram - {i}\")\n",
    "    plt.xlabel(i)\n",
    "    plt.ylabel(\"count\")\n",
    "    plotCount +=1"
   ]
  },
  {
   "cell_type": "code",
   "execution_count": 77,
   "id": "8a1f0bca",
   "metadata": {},
   "outputs": [
    {
     "data": {
      "image/png": "[encoded data removed]",
      "text/plain": [
       "<Figure size 1800x300 with 3 Axes>"
      ]
     },
     "metadata": {},
     "output_type": "display_data"
    }
   ],
   "source": [
    "import seaborn as sns\n",
    "\n",
    "plotCount = 1\n",
    "plt.figure(figsize=(18, 3))\n",
    "for i in visa_df.select_dtypes(exclude=\"object\").columns:\n",
    "    plt.subplot(1, 3, plotCount)\n",
    "    sns.distplot(visa_df[i])\n",
    "    plt.title(f\"Histogram - {i}\")\n",
    "    plt.xlabel(i)\n",
    "    plt.ylabel(\"count\")\n",
    "    plotCount +=1"
   ]
  },
  {
   "cell_type": "code",
   "execution_count": null,
   "id": "7bf35e48",
   "metadata": {},
   "outputs": [],
   "source": []
  }
 ],
 "metadata": {
  "kernelspec": {
   "display_name": "Python 3 (ipykernel)",
   "language": "python",
   "name": "python3"
  },
  "language_info": {
   "codemirror_mode": {
    "name": "ipython",
    "version": 3
   },
   "file_extension": ".py",
   "mimetype": "text/x-python",
   "name": "python",
   "nbconvert_exporter": "python",
   "pygments_lexer": "ipython3",
   "version": "3.10.13"
  }
 },
 "nbformat": 4,
 "nbformat_minor": 5
}
